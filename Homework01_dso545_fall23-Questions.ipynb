{
 "cells": [
  {
   "cell_type": "markdown",
   "metadata": {
    "id": "ty_Gvth62Tav"
   },
   "source": [
    "# Homework 1\n",
    "\n",
    "### Due: Friday Sep 8, at 11:59pm via Blackboard"
   ]
  },
  {
   "cell_type": "markdown",
   "metadata": {
    "heading_collapsed": true,
    "id": "ZWwRsNom2TKq"
   },
   "source": [
    "#### **Q1.** *(4 points)* Given the following list of characters: 'a', 'b', 'c', 'd', 'e', 'f', 'g', 'h', 'i', 'j'.  Create a Python list to store all of the characters. Store the list in a variable `alphabet`.\n",
    "\n"
   ]
  },
  {
   "cell_type": "code",
   "execution_count": 1,
   "metadata": {
    "hidden": true
   },
   "outputs": [],
   "source": [
    "alphabet = ['a', 'b', 'c', 'd', 'e', 'f', 'g', 'h', 'i', 'j']"
   ]
  },
  {
   "cell_type": "markdown",
   "metadata": {
    "hidden": true
   },
   "source": [
    "**1.1** Use indexing techniques to retrieve the first half of the list. "
   ]
  },
  {
   "cell_type": "code",
   "execution_count": 2,
   "metadata": {
    "colab": {
     "base_uri": "https://localhost:8080/",
     "height": 37
    },
    "hidden": true,
    "id": "TfKYs1Kp3qra",
    "outputId": "3585e569-1fda-4683-8872-63e2bf92602f"
   },
   "outputs": [
    {
     "data": {
      "text/plain": [
       "['a', 'b', 'c', 'd', 'e']"
      ]
     },
     "execution_count": 2,
     "metadata": {},
     "output_type": "execute_result"
    }
   ],
   "source": [
    "alphabet[0:5]"
   ]
  },
  {
   "cell_type": "markdown",
   "metadata": {
    "hidden": true
   },
   "source": [
    "**1.2** Use indexing techniques to retrieve every other character in the list. "
   ]
  },
  {
   "cell_type": "code",
   "execution_count": 3,
   "metadata": {
    "colab": {
     "base_uri": "https://localhost:8080/",
     "height": 37
    },
    "hidden": true,
    "id": "MCSJkHfA4G3p",
    "outputId": "9a9da5f3-9ee0-48d2-95ea-f8e61af7472a"
   },
   "outputs": [
    {
     "data": {
      "text/plain": [
       "['a', 'c', 'e', 'g', 'i']"
      ]
     },
     "execution_count": 3,
     "metadata": {},
     "output_type": "execute_result"
    }
   ],
   "source": [
    "alphabet[::2]"
   ]
  },
  {
   "cell_type": "markdown",
   "metadata": {
    "hidden": true
   },
   "source": [
    "**1.3** Use indexing techniques to print the list in reverse."
   ]
  },
  {
   "cell_type": "code",
   "execution_count": 4,
   "metadata": {
    "colab": {
     "base_uri": "https://localhost:8080/",
     "height": 37
    },
    "hidden": true,
    "id": "3RBycIAH4Nqi",
    "outputId": "5b46d519-37d0-440c-c503-b858170a2ce3",
    "scrolled": true
   },
   "outputs": [
    {
     "data": {
      "text/plain": [
       "['j', 'i', 'h', 'g', 'f', 'e', 'd', 'c', 'b', 'a']"
      ]
     },
     "execution_count": 4,
     "metadata": {},
     "output_type": "execute_result"
    }
   ],
   "source": [
    "alphabet[::-1]"
   ]
  },
  {
   "cell_type": "markdown",
   "metadata": {
    "hidden": true
   },
   "source": [
    "**1.4** Use indexing techniques to print every other character in reverse."
   ]
  },
  {
   "cell_type": "code",
   "execution_count": 5,
   "metadata": {
    "colab": {
     "base_uri": "https://localhost:8080/",
     "height": 37
    },
    "hidden": true,
    "id": "LEPAyfhf4yRB",
    "outputId": "5b52aa60-b151-43b3-8678-b83d937aab3d"
   },
   "outputs": [
    {
     "data": {
      "text/plain": [
       "['j', 'h', 'f', 'd', 'b']"
      ]
     },
     "execution_count": 5,
     "metadata": {},
     "output_type": "execute_result"
    }
   ],
   "source": [
    "alphabet[::-2]"
   ]
  },
  {
   "cell_type": "markdown",
   "metadata": {
    "heading_collapsed": true,
    "id": "pfzJkwGp4_ZP"
   },
   "source": [
    "#### **Q2.**  *(2 points)* For a circle of radius 2, calculate and display the diameter, circumference, and area. Use the value 3.14159 for $\\pi$. Your output should like as follows:\n",
    "\n",
    "*Expected Output*\n",
    "\n",
    "------------------\n",
    "\n",
    "The diameter of a circle with radius 2 is 4.\n",
    "\n",
    "The circumferene of a circle with radius 2 is 12.56636. \n",
    "\n",
    "The area of a circle with radius 2 is 12.56636.\n"
   ]
  },
  {
   "cell_type": "code",
   "execution_count": 6,
   "metadata": {
    "colab": {
     "base_uri": "https://localhost:8080/"
    },
    "hidden": true,
    "id": "JCnaljJi49W0",
    "outputId": "f16e19e9-e613-4f34-cf44-a613528b0f92"
   },
   "outputs": [
    {
     "name": "stdout",
     "output_type": "stream",
     "text": [
      "The diameter of a circle with a radius 2 is 4.\n",
      "The circumference of a circle with a radius 2 12.56636.\n",
      "The area of a circle witha radius 2 is 12.56636.\n"
     ]
    }
   ],
   "source": [
    "r = 2\n",
    "pi = 3.14159\n",
    "d = 2*r\n",
    "c = 2*pi*r\n",
    "a = pi *(r**2)\n",
    "print(f'The diameter of a circle with a radius 2 is {d}.')\n",
    "print(f'The circumference of a circle with a radius 2 {c}.')\n",
    "print(f'The area of a circle witha radius 2 is {a}.')\n"
   ]
  },
  {
   "cell_type": "markdown",
   "metadata": {
    "id": "LjuDRRhR8aTk"
   },
   "source": [
    "#### **Q3.**  *(3 points)* Some investment advisors say that it's reasonable to expect a 7% return over the long term in the stock market. Assuming that you begin with $10,000 and leave your money invested, calculate and display how much money you'll have after 10, 20, and 30 years. Use the following formula for determining these amounts: \n",
    "\n",
    "$a=p(1+r)^n$\n",
    "\n",
    "where \n",
    "\n",
    "$p$ is the original amount invested\n",
    "\n",
    "$r$ is the annual rate of return\n",
    "\n",
    "$n$ is the number of years \n",
    "\n",
    "$a$ is the amount on deposit at the end of the $n^{th}$ year."
   ]
  },
  {
   "cell_type": "code",
   "execution_count": 8,
   "metadata": {
    "colab": {
     "base_uri": "https://localhost:8080/"
    },
    "id": "NZhXxKA99rts",
    "outputId": "9d524d81-b4e9-477b-a526-d45d56830d98"
   },
   "outputs": [
    {
     "name": "stdout",
     "output_type": "stream",
     "text": [
      "You will have $19671.51 in 10 year.\n",
      "You will have $38696.84 in 20 year.\n",
      "You will have $76122.55 in 30 year.\n"
     ]
    }
   ],
   "source": [
    "p = 10000\n",
    "r = 0.07\n",
    "n = [10, 20, 30]\n",
    "\n",
    "for year in n:\n",
    "    a = round(p*(1+r)**year,2)\n",
    "    print(f'You will have ${a} in {year} year.')"
   ]
  },
  {
   "cell_type": "markdown",
   "metadata": {
    "id": "k-OapMsUUd9t"
   },
   "source": [
    "\n",
    "#### **Q4.**  *(2 points)* Investigate the Python built-in function `round()` at https://docs.python.org/3/library/functions.html#round, then use it to round the `float` value 12.56449 to the nearest integer; ii) tenth; iii) hundredth; iv) and thousandths position. "
   ]
  },
  {
   "cell_type": "code",
   "execution_count": 20,
   "metadata": {
    "colab": {
     "base_uri": "https://localhost:8080/"
    },
    "id": "OmsvFtOWXESX",
    "outputId": "3db1f034-2a10-4bd1-90ff-6da55fae8276"
   },
   "outputs": [
    {
     "name": "stdout",
     "output_type": "stream",
     "text": [
      "13\n",
      "12.6\n",
      "12.56\n",
      "12.564\n"
     ]
    }
   ],
   "source": [
    "#i round to nearest integer\n",
    "print(round(12.56449))\n",
    "\n",
    "#ii round to tenth\n",
    "print(round(12.56449, 1))\n",
    "\n",
    "#iii round to hundreth\n",
    "print(round(12.56449, 2))\n",
    "\n",
    "#iiii round to thousandth\n",
    "print(round(12.56449, 3))"
   ]
  },
  {
   "cell_type": "markdown",
   "metadata": {
    "id": "MnlXHzIUYSVt"
   },
   "source": [
    "#### **Q5.**  *(4 points)* Given two lists: the first represents a selection of cryptoassets, and the second represents the cryptoassets corresponding marketcap in billions of dollars:\n",
    "\n",
    "- Crypto assets = Bitcoin, Cardano, Ethereum,  and Dodgecoin\n",
    "- Marketcap = 927, 78, 379, 42\n",
    "\n",
    "(Note: the given marketcap was recorded on 8/21/21)\n",
    "\n"
   ]
  },
  {
   "cell_type": "code",
   "execution_count": 14,
   "metadata": {
    "id": "FS-g5498maee"
   },
   "outputs": [],
   "source": [
    "crypto_assets = ['Bitcoin', 'Cardano', 'Ethereum', 'Dodgecoin']\n",
    "marketcap = [927, 78, 379, 42]"
   ]
  },
  {
   "cell_type": "markdown",
   "metadata": {},
   "source": [
    "**5.1** Use a `for` loop to compute the total marketcap for all four currencies together."
   ]
  },
  {
   "cell_type": "code",
   "execution_count": 15,
   "metadata": {
    "colab": {
     "base_uri": "https://localhost:8080/"
    },
    "id": "_6htoQH85r_8",
    "outputId": "fb514aaa-794d-456a-8c83-27bf9b2336e4"
   },
   "outputs": [
    {
     "name": "stdout",
     "output_type": "stream",
     "text": [
      "1426\n"
     ]
    }
   ],
   "source": [
    "total = 0\n",
    "for value in marketcap:\n",
    "    total += value\n",
    "print(total)"
   ]
  },
  {
   "cell_type": "markdown",
   "metadata": {},
   "source": [
    "**5.2** Use list comprehension to list all market caps above $250B."
   ]
  },
  {
   "cell_type": "code",
   "execution_count": 16,
   "metadata": {
    "colab": {
     "base_uri": "https://localhost:8080/"
    },
    "id": "_fR9NR8N6WRj",
    "outputId": "7b79b488-f86f-4175-8b4b-fc8c46ac2292"
   },
   "outputs": [
    {
     "data": {
      "text/plain": [
       "[927, 379]"
      ]
     },
     "execution_count": 16,
     "metadata": {},
     "output_type": "execute_result"
    }
   ],
   "source": [
    "mcap = [value for value in marketcap if value > 250]\n",
    "mcap"
   ]
  },
  {
   "cell_type": "markdown",
   "metadata": {},
   "source": [
    "**5.3** Create a dictionary that contains the name of the cryptoasset as key and its corresponding marketcap as values for the dictionary.\n",
    "\n"
   ]
  },
  {
   "cell_type": "code",
   "execution_count": 17,
   "metadata": {
    "colab": {
     "base_uri": "https://localhost:8080/"
    },
    "id": "u_Q7m-RT0TRE",
    "outputId": "4a7ee62f-af03-4620-8125-09868d4e20f5"
   },
   "outputs": [
    {
     "data": {
      "text/plain": [
       "{'Bitcoin': 927, 'Cardano': 78, 'Ethereum': 379, 'Dodgecoin': 42}"
      ]
     },
     "execution_count": 17,
     "metadata": {},
     "output_type": "execute_result"
    }
   ],
   "source": [
    "crypto = {'Bitcoin': 927, 'Cardano': 78, 'Ethereum': 379, 'Dodgecoin': 42}\n",
    "crypto"
   ]
  },
  {
   "cell_type": "markdown",
   "metadata": {},
   "source": [
    "**5.4** Use the dictionary data structure you created for the cryptoassets to print the name of the asset and its marketcap as follows (use for loop):\n",
    "\n",
    "Expected Output:\n",
    "\n",
    "-----------------\n",
    "\n",
    "The marketcap for Bitcoin is $927B\n",
    "\n",
    "The marketcap for Ethereum is $379B\n",
    "\n",
    "The marketcap for Cardano is $78B\n",
    "\n",
    "The marketcap for Dodgecoin is $41B\n",
    "\n"
   ]
  },
  {
   "cell_type": "code",
   "execution_count": 18,
   "metadata": {
    "colab": {
     "base_uri": "https://localhost:8080/"
    },
    "id": "zPUQH3Zt2cpe",
    "outputId": "97d74615-6600-4321-b7b0-93a845af6354"
   },
   "outputs": [
    {
     "name": "stdout",
     "output_type": "stream",
     "text": [
      "The marketcap for Bitcoin is $927B\n",
      "The marketcap for Cardano is $78B\n",
      "The marketcap for Ethereum is $379B\n",
      "The marketcap for Dodgecoin is $42B\n"
     ]
    }
   ],
   "source": [
    "for asset, mrktcap in crypto.items():\n",
    "    print(f'The marketcap for {asset} is ${mrktcap}B')"
   ]
  }
 ],
 "metadata": {
  "colab": {
   "name": "Homework01-dso545-fall21.ipynb",
   "provenance": []
  },
  "kernelspec": {
   "display_name": "Python 3 (ipykernel)",
   "language": "python",
   "name": "python3"
  },
  "language_info": {
   "codemirror_mode": {
    "name": "ipython",
    "version": 3
   },
   "file_extension": ".py",
   "mimetype": "text/x-python",
   "name": "python",
   "nbconvert_exporter": "python",
   "pygments_lexer": "ipython3",
   "version": "3.11.4"
  },
  "varInspector": {
   "cols": {
    "lenName": 16,
    "lenType": 16,
    "lenVar": 40
   },
   "kernels_config": {
    "python": {
     "delete_cmd_postfix": "",
     "delete_cmd_prefix": "del ",
     "library": "var_list.py",
     "varRefreshCmd": "print(var_dic_list())"
    },
    "r": {
     "delete_cmd_postfix": ") ",
     "delete_cmd_prefix": "rm(",
     "library": "var_list.r",
     "varRefreshCmd": "cat(var_dic_list()) "
    }
   },
   "types_to_exclude": [
    "module",
    "function",
    "builtin_function_or_method",
    "instance",
    "_Feature"
   ],
   "window_display": false
  }
 },
 "nbformat": 4,
 "nbformat_minor": 1
}
